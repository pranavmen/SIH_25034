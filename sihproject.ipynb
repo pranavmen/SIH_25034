{
  "cells": [
    {
      "cell_type": "code",
      "execution_count": null,
      "id": "3d052b74-2bc0-4b0c-b3f7-c10243ad93fd",
      "metadata": {
        "id": "3d052b74-2bc0-4b0c-b3f7-c10243ad93fd"
      },
      "outputs": [],
      "source": [
        "import numpy as np\n",
        "import pandas as pd\n",
        "from sklearn.feature_extraction.text import TfidfVectorizer,CountVectorizer\n",
        "from sklearn.metrics.pairwise import cosine_similarity"
      ]
    },
    {
      "cell_type": "code",
      "execution_count": null,
      "id": "9fb909e6-fc1a-4daf-9bf4-7ce5c501aed9",
      "metadata": {
        "id": "9fb909e6-fc1a-4daf-9bf4-7ce5c501aed9"
      },
      "outputs": [],
      "source": [
        "df = pd.read_csv('internships_data_final.csv')\n",
        "df.dropna(inplace=True)\n",
        "df.head()"
      ]
    },
    {
      "cell_type": "code",
      "execution_count": null,
      "id": "4124a45a-70f7-416f-b959-b98ea6e145c5",
      "metadata": {
        "id": "4124a45a-70f7-416f-b959-b98ea6e145c5"
      },
      "outputs": [],
      "source": [
        "import ast\n",
        "df['skills'] = df['skills'].apply(ast.literal_eval)\n",
        "df.skills = df.skills.apply(' '.join)\n",
        "df['locations'] = df.locations.str.split(', ').apply(' '.join)"
      ]
    },
    {
      "cell_type": "code",
      "execution_count": 17,
      "id": "6eaff1b7-ebaa-47dd-bb0a-bd86bf089331",
      "metadata": {
        "id": "6eaff1b7-ebaa-47dd-bb0a-bd86bf089331"
      },
      "outputs": [],
      "source": [
        "student_profile = [\"AutoCAD Adobe Photoshop Networking\"]\n",
        "student_profile_text = \"AutoCAD Adobe Photoshop Networking\"\n",
        "vectorizer = TfidfVectorizer(stop_words='english', lowercase=True)\n",
        "bag = vectorizer.fit_transform(df.skills)\n",
        "student_profile = vectorizer.transform(student_profile)"
      ]
    },
    {
      "cell_type": "markdown",
      "source": [],
      "metadata": {
        "id": "R2l0IrsstGJ5"
      },
      "id": "R2l0IrsstGJ5"
    },
    {
      "cell_type": "code",
      "execution_count": 18,
      "id": "a8cde8a2-1720-4e7a-a9bc-8bc77dffdeea",
      "metadata": {
        "id": "a8cde8a2-1720-4e7a-a9bc-8bc77dffdeea"
      },
      "outputs": [],
      "source": [
        "similarity_scores = cosine_similarity(student_profile ,bag.toarray())[0]\n",
        "df[\"cosine_score\"] = similarity_scores\n",
        "rankings = similarity_scores.argsort()[::-1]"
      ]
    },
    {
      "cell_type": "code",
      "execution_count": 23,
      "id": "62fa9423-ac39-4fb3-bc55-587aed9f7dcd",
      "metadata": {
        "colab": {
          "base_uri": "https://localhost:8080/"
        },
        "id": "62fa9423-ac39-4fb3-bc55-587aed9f7dcd",
        "outputId": "205acd49-eeed-4c43-ce1d-39fc5541c336"
      },
      "outputs": [
        {
          "output_type": "stream",
          "name": "stdout",
          "text": [
            "AutoCAD Adobe Photoshop Google SketchUp\n",
            "MySQL Cloud Computing Python SQL Data Analytics Django Machine Learning\n",
            "Recruitment English Proficiency (Spoken) English Proficiency (Written)\n",
            "Blogging Digital Marketing Search Engine Optimization (SEO) Creative Writing English Proficiency (Written)\n",
            "Leadership Sales Support Sales\n"
          ]
        }
      ],
      "source": [
        "for i in rankings[:5]:\n",
        "    print(df.skills[i])"
      ]
    },
    {
      "cell_type": "code",
      "source": [
        "def jaccard_similarity(set1, set2):\n",
        "    intersection = len(set1.intersection(set2))\n",
        "    union = len(set1.union(set2))\n",
        "    return intersection / union if union != 0 else 0\n"
      ],
      "metadata": {
        "id": "-q2zQPWBJWzK"
      },
      "id": "-q2zQPWBJWzK",
      "execution_count": 14,
      "outputs": []
    },
    {
      "cell_type": "code",
      "execution_count": 19,
      "id": "0969acef-f9aa-4007-b524-d647559a8f45",
      "metadata": {
        "id": "0969acef-f9aa-4007-b524-d647559a8f45"
      },
      "outputs": [],
      "source": [
        "# Student skills as a set\n",
        "student_skills = set(student_profile_text.lower().split())\n",
        "\n",
        "# Internship skills as sets\n",
        "df[\"skills_set\"] = df[\"skills\"].apply(lambda x: set(x.lower().split()))\n"
      ]
    },
    {
      "cell_type": "code",
      "execution_count": 20,
      "id": "09788012-6724-46d7-ab12-7e59e579baae",
      "metadata": {
        "id": "09788012-6724-46d7-ab12-7e59e579baae"
      },
      "outputs": [],
      "source": [
        "df[\"jaccard_score\"] = df[\"skills_set\"].apply(lambda s: jaccard_similarity(student_skills, s))\n"
      ]
    },
    {
      "cell_type": "code",
      "source": [
        "# Attach cosine similarity scores to df\n",
        "df[\"cosine_score\"] = similarity_scores\n",
        "\n",
        "# Weighted final score\n",
        "df[\"final_score\"] = 0.7 * df[\"cosine_score\"] + 0.3 * df[\"jaccard_score\"]\n",
        "\n",
        "# Rank internships\n",
        "recommendations = df.sort_values(by=\"final_score\", ascending=False).head(5)\n",
        "recommendations[[\"skills\", \"locations\"]]\n"
      ],
      "metadata": {
        "colab": {
          "base_uri": "https://localhost:8080/",
          "height": 204
        },
        "id": "TuCadwxBruT_",
        "outputId": "0dcbd85a-b84d-47ad-e90b-4aa2310c2fbd"
      },
      "id": "TuCadwxBruT_",
      "execution_count": 25,
      "outputs": [
        {
          "output_type": "execute_result",
          "data": {
            "text/plain": [
              "                                                skills  \\\n",
              "7              AutoCAD Adobe Photoshop Google SketchUp   \n",
              "168                  Adobe Photoshop Adobe Illustrator   \n",
              "152                      Adobe Photoshop Video Editing   \n",
              "366  Adobe Photoshop Adobe Illustrator Adobe Premie...   \n",
              "182  AutoCAD Adobe Photoshop Google SketchUp Autode...   \n",
              "\n",
              "                                            locations  \n",
              "7                               Pune Pimpri-Chinchwad  \n",
              "168                                            Bhukum  \n",
              "152  Ahmedabad Delhi Indore Pune Surat Mumbai(Hybrid)  \n",
              "366                                              Pune  \n",
              "182                                              Pune  "
            ],
            "text/html": [
              "\n",
              "  <div id=\"df-4354d562-2d12-43e8-b987-660aaf27d2ff\" class=\"colab-df-container\">\n",
              "    <div>\n",
              "<style scoped>\n",
              "    .dataframe tbody tr th:only-of-type {\n",
              "        vertical-align: middle;\n",
              "    }\n",
              "\n",
              "    .dataframe tbody tr th {\n",
              "        vertical-align: top;\n",
              "    }\n",
              "\n",
              "    .dataframe thead th {\n",
              "        text-align: right;\n",
              "    }\n",
              "</style>\n",
              "<table border=\"1\" class=\"dataframe\">\n",
              "  <thead>\n",
              "    <tr style=\"text-align: right;\">\n",
              "      <th></th>\n",
              "      <th>skills</th>\n",
              "      <th>locations</th>\n",
              "    </tr>\n",
              "  </thead>\n",
              "  <tbody>\n",
              "    <tr>\n",
              "      <th>7</th>\n",
              "      <td>AutoCAD Adobe Photoshop Google SketchUp</td>\n",
              "      <td>Pune Pimpri-Chinchwad</td>\n",
              "    </tr>\n",
              "    <tr>\n",
              "      <th>168</th>\n",
              "      <td>Adobe Photoshop Adobe Illustrator</td>\n",
              "      <td>Bhukum</td>\n",
              "    </tr>\n",
              "    <tr>\n",
              "      <th>152</th>\n",
              "      <td>Adobe Photoshop Video Editing</td>\n",
              "      <td>Ahmedabad Delhi Indore Pune Surat Mumbai(Hybrid)</td>\n",
              "    </tr>\n",
              "    <tr>\n",
              "      <th>366</th>\n",
              "      <td>Adobe Photoshop Adobe Illustrator Adobe Premie...</td>\n",
              "      <td>Pune</td>\n",
              "    </tr>\n",
              "    <tr>\n",
              "      <th>182</th>\n",
              "      <td>AutoCAD Adobe Photoshop Google SketchUp Autode...</td>\n",
              "      <td>Pune</td>\n",
              "    </tr>\n",
              "  </tbody>\n",
              "</table>\n",
              "</div>\n",
              "    <div class=\"colab-df-buttons\">\n",
              "\n",
              "  <div class=\"colab-df-container\">\n",
              "    <button class=\"colab-df-convert\" onclick=\"convertToInteractive('df-4354d562-2d12-43e8-b987-660aaf27d2ff')\"\n",
              "            title=\"Convert this dataframe to an interactive table.\"\n",
              "            style=\"display:none;\">\n",
              "\n",
              "  <svg xmlns=\"http://www.w3.org/2000/svg\" height=\"24px\" viewBox=\"0 -960 960 960\">\n",
              "    <path d=\"M120-120v-720h720v720H120Zm60-500h600v-160H180v160Zm220 220h160v-160H400v160Zm0 220h160v-160H400v160ZM180-400h160v-160H180v160Zm440 0h160v-160H620v160ZM180-180h160v-160H180v160Zm440 0h160v-160H620v160Z\"/>\n",
              "  </svg>\n",
              "    </button>\n",
              "\n",
              "  <style>\n",
              "    .colab-df-container {\n",
              "      display:flex;\n",
              "      gap: 12px;\n",
              "    }\n",
              "\n",
              "    .colab-df-convert {\n",
              "      background-color: #E8F0FE;\n",
              "      border: none;\n",
              "      border-radius: 50%;\n",
              "      cursor: pointer;\n",
              "      display: none;\n",
              "      fill: #1967D2;\n",
              "      height: 32px;\n",
              "      padding: 0 0 0 0;\n",
              "      width: 32px;\n",
              "    }\n",
              "\n",
              "    .colab-df-convert:hover {\n",
              "      background-color: #E2EBFA;\n",
              "      box-shadow: 0px 1px 2px rgba(60, 64, 67, 0.3), 0px 1px 3px 1px rgba(60, 64, 67, 0.15);\n",
              "      fill: #174EA6;\n",
              "    }\n",
              "\n",
              "    .colab-df-buttons div {\n",
              "      margin-bottom: 4px;\n",
              "    }\n",
              "\n",
              "    [theme=dark] .colab-df-convert {\n",
              "      background-color: #3B4455;\n",
              "      fill: #D2E3FC;\n",
              "    }\n",
              "\n",
              "    [theme=dark] .colab-df-convert:hover {\n",
              "      background-color: #434B5C;\n",
              "      box-shadow: 0px 1px 3px 1px rgba(0, 0, 0, 0.15);\n",
              "      filter: drop-shadow(0px 1px 2px rgba(0, 0, 0, 0.3));\n",
              "      fill: #FFFFFF;\n",
              "    }\n",
              "  </style>\n",
              "\n",
              "    <script>\n",
              "      const buttonEl =\n",
              "        document.querySelector('#df-4354d562-2d12-43e8-b987-660aaf27d2ff button.colab-df-convert');\n",
              "      buttonEl.style.display =\n",
              "        google.colab.kernel.accessAllowed ? 'block' : 'none';\n",
              "\n",
              "      async function convertToInteractive(key) {\n",
              "        const element = document.querySelector('#df-4354d562-2d12-43e8-b987-660aaf27d2ff');\n",
              "        const dataTable =\n",
              "          await google.colab.kernel.invokeFunction('convertToInteractive',\n",
              "                                                    [key], {});\n",
              "        if (!dataTable) return;\n",
              "\n",
              "        const docLinkHtml = 'Like what you see? Visit the ' +\n",
              "          '<a target=\"_blank\" href=https://colab.research.google.com/notebooks/data_table.ipynb>data table notebook</a>'\n",
              "          + ' to learn more about interactive tables.';\n",
              "        element.innerHTML = '';\n",
              "        dataTable['output_type'] = 'display_data';\n",
              "        await google.colab.output.renderOutput(dataTable, element);\n",
              "        const docLink = document.createElement('div');\n",
              "        docLink.innerHTML = docLinkHtml;\n",
              "        element.appendChild(docLink);\n",
              "      }\n",
              "    </script>\n",
              "  </div>\n",
              "\n",
              "\n",
              "    <div id=\"df-3bf33c09-16cc-474a-83ba-0d5ae0043226\">\n",
              "      <button class=\"colab-df-quickchart\" onclick=\"quickchart('df-3bf33c09-16cc-474a-83ba-0d5ae0043226')\"\n",
              "                title=\"Suggest charts\"\n",
              "                style=\"display:none;\">\n",
              "\n",
              "<svg xmlns=\"http://www.w3.org/2000/svg\" height=\"24px\"viewBox=\"0 0 24 24\"\n",
              "     width=\"24px\">\n",
              "    <g>\n",
              "        <path d=\"M19 3H5c-1.1 0-2 .9-2 2v14c0 1.1.9 2 2 2h14c1.1 0 2-.9 2-2V5c0-1.1-.9-2-2-2zM9 17H7v-7h2v7zm4 0h-2V7h2v10zm4 0h-2v-4h2v4z\"/>\n",
              "    </g>\n",
              "</svg>\n",
              "      </button>\n",
              "\n",
              "<style>\n",
              "  .colab-df-quickchart {\n",
              "      --bg-color: #E8F0FE;\n",
              "      --fill-color: #1967D2;\n",
              "      --hover-bg-color: #E2EBFA;\n",
              "      --hover-fill-color: #174EA6;\n",
              "      --disabled-fill-color: #AAA;\n",
              "      --disabled-bg-color: #DDD;\n",
              "  }\n",
              "\n",
              "  [theme=dark] .colab-df-quickchart {\n",
              "      --bg-color: #3B4455;\n",
              "      --fill-color: #D2E3FC;\n",
              "      --hover-bg-color: #434B5C;\n",
              "      --hover-fill-color: #FFFFFF;\n",
              "      --disabled-bg-color: #3B4455;\n",
              "      --disabled-fill-color: #666;\n",
              "  }\n",
              "\n",
              "  .colab-df-quickchart {\n",
              "    background-color: var(--bg-color);\n",
              "    border: none;\n",
              "    border-radius: 50%;\n",
              "    cursor: pointer;\n",
              "    display: none;\n",
              "    fill: var(--fill-color);\n",
              "    height: 32px;\n",
              "    padding: 0;\n",
              "    width: 32px;\n",
              "  }\n",
              "\n",
              "  .colab-df-quickchart:hover {\n",
              "    background-color: var(--hover-bg-color);\n",
              "    box-shadow: 0 1px 2px rgba(60, 64, 67, 0.3), 0 1px 3px 1px rgba(60, 64, 67, 0.15);\n",
              "    fill: var(--button-hover-fill-color);\n",
              "  }\n",
              "\n",
              "  .colab-df-quickchart-complete:disabled,\n",
              "  .colab-df-quickchart-complete:disabled:hover {\n",
              "    background-color: var(--disabled-bg-color);\n",
              "    fill: var(--disabled-fill-color);\n",
              "    box-shadow: none;\n",
              "  }\n",
              "\n",
              "  .colab-df-spinner {\n",
              "    border: 2px solid var(--fill-color);\n",
              "    border-color: transparent;\n",
              "    border-bottom-color: var(--fill-color);\n",
              "    animation:\n",
              "      spin 1s steps(1) infinite;\n",
              "  }\n",
              "\n",
              "  @keyframes spin {\n",
              "    0% {\n",
              "      border-color: transparent;\n",
              "      border-bottom-color: var(--fill-color);\n",
              "      border-left-color: var(--fill-color);\n",
              "    }\n",
              "    20% {\n",
              "      border-color: transparent;\n",
              "      border-left-color: var(--fill-color);\n",
              "      border-top-color: var(--fill-color);\n",
              "    }\n",
              "    30% {\n",
              "      border-color: transparent;\n",
              "      border-left-color: var(--fill-color);\n",
              "      border-top-color: var(--fill-color);\n",
              "      border-right-color: var(--fill-color);\n",
              "    }\n",
              "    40% {\n",
              "      border-color: transparent;\n",
              "      border-right-color: var(--fill-color);\n",
              "      border-top-color: var(--fill-color);\n",
              "    }\n",
              "    60% {\n",
              "      border-color: transparent;\n",
              "      border-right-color: var(--fill-color);\n",
              "    }\n",
              "    80% {\n",
              "      border-color: transparent;\n",
              "      border-right-color: var(--fill-color);\n",
              "      border-bottom-color: var(--fill-color);\n",
              "    }\n",
              "    90% {\n",
              "      border-color: transparent;\n",
              "      border-bottom-color: var(--fill-color);\n",
              "    }\n",
              "  }\n",
              "</style>\n",
              "\n",
              "      <script>\n",
              "        async function quickchart(key) {\n",
              "          const quickchartButtonEl =\n",
              "            document.querySelector('#' + key + ' button');\n",
              "          quickchartButtonEl.disabled = true;  // To prevent multiple clicks.\n",
              "          quickchartButtonEl.classList.add('colab-df-spinner');\n",
              "          try {\n",
              "            const charts = await google.colab.kernel.invokeFunction(\n",
              "                'suggestCharts', [key], {});\n",
              "          } catch (error) {\n",
              "            console.error('Error during call to suggestCharts:', error);\n",
              "          }\n",
              "          quickchartButtonEl.classList.remove('colab-df-spinner');\n",
              "          quickchartButtonEl.classList.add('colab-df-quickchart-complete');\n",
              "        }\n",
              "        (() => {\n",
              "          let quickchartButtonEl =\n",
              "            document.querySelector('#df-3bf33c09-16cc-474a-83ba-0d5ae0043226 button');\n",
              "          quickchartButtonEl.style.display =\n",
              "            google.colab.kernel.accessAllowed ? 'block' : 'none';\n",
              "        })();\n",
              "      </script>\n",
              "    </div>\n",
              "\n",
              "    </div>\n",
              "  </div>\n"
            ],
            "application/vnd.google.colaboratory.intrinsic+json": {
              "type": "dataframe",
              "summary": "{\n  \"name\": \"recommendations[[\\\"skills\\\", \\\"locations\\\"]]\",\n  \"rows\": 5,\n  \"fields\": [\n    {\n      \"column\": \"skills\",\n      \"properties\": {\n        \"dtype\": \"string\",\n        \"num_unique_values\": 5,\n        \"samples\": [\n          \"Adobe Photoshop Adobe Illustrator\",\n          \"AutoCAD Adobe Photoshop Google SketchUp Autodesk 3ds Max\",\n          \"Adobe Photoshop Video Editing\"\n        ],\n        \"semantic_type\": \"\",\n        \"description\": \"\"\n      }\n    },\n    {\n      \"column\": \"locations\",\n      \"properties\": {\n        \"dtype\": \"string\",\n        \"num_unique_values\": 4,\n        \"samples\": [\n          \"Bhukum\",\n          \"Pune\",\n          \"Pune Pimpri-Chinchwad\"\n        ],\n        \"semantic_type\": \"\",\n        \"description\": \"\"\n      }\n    }\n  ]\n}"
            }
          },
          "metadata": {},
          "execution_count": 25
        }
      ]
    }
  ],
  "metadata": {
    "kernelspec": {
      "display_name": "Python 3 (ipykernel)",
      "language": "python",
      "name": "python3"
    },
    "language_info": {
      "codemirror_mode": {
        "name": "ipython",
        "version": 3
      },
      "file_extension": ".py",
      "mimetype": "text/x-python",
      "name": "python",
      "nbconvert_exporter": "python",
      "pygments_lexer": "ipython3",
      "version": "3.12.3"
    },
    "colab": {
      "provenance": []
    }
  },
  "nbformat": 4,
  "nbformat_minor": 5
}